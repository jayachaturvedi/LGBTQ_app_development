{
 "cells": [
  {
   "cell_type": "code",
   "execution_count": 1,
   "id": "0943d794",
   "metadata": {},
   "outputs": [],
   "source": [
    "import pandas as pd"
   ]
  },
  {
   "cell_type": "code",
   "execution_count": 2,
   "id": "d630ad4d",
   "metadata": {},
   "outputs": [],
   "source": [
    "from sklearn.metrics import roc_auc_score"
   ]
  },
  {
   "cell_type": "code",
   "execution_count": 3,
   "id": "d51b1b4f",
   "metadata": {},
   "outputs": [],
   "source": [
    "df = pd.read_csv('all_data_v2_with_preds.csv')"
   ]
  },
  {
   "cell_type": "code",
   "execution_count": 4,
   "id": "2456b6aa",
   "metadata": {},
   "outputs": [],
   "source": [
    "labels = df['label']\n",
    "preds = df['preds']\n",
    "probs = df['probs']"
   ]
  },
  {
   "cell_type": "code",
   "execution_count": 5,
   "id": "fd8636e2",
   "metadata": {},
   "outputs": [],
   "source": [
    "auc = roc_auc_score(labels, probs)"
   ]
  },
  {
   "cell_type": "code",
   "execution_count": 6,
   "id": "05c7193a",
   "metadata": {},
   "outputs": [
    {
     "name": "stdout",
     "output_type": "stream",
     "text": [
      "0.9950427394394574\n"
     ]
    }
   ],
   "source": [
    "print(auc)"
   ]
  },
  {
   "cell_type": "code",
   "execution_count": 7,
   "id": "17b00c63",
   "metadata": {},
   "outputs": [],
   "source": [
    "train_df = df[df['split'] == 'train']"
   ]
  },
  {
   "cell_type": "code",
   "execution_count": 8,
   "id": "c1620dec",
   "metadata": {},
   "outputs": [],
   "source": [
    "labels = train_df['label']\n",
    "preds = train_df['preds']\n",
    "probs = train_df['probs']"
   ]
  },
  {
   "cell_type": "code",
   "execution_count": 9,
   "id": "283773de",
   "metadata": {},
   "outputs": [],
   "source": [
    "auc = roc_auc_score(labels, probs)"
   ]
  },
  {
   "cell_type": "code",
   "execution_count": 10,
   "id": "7ee09fa8",
   "metadata": {},
   "outputs": [
    {
     "name": "stdout",
     "output_type": "stream",
     "text": [
      "0.9958107882479239\n"
     ]
    }
   ],
   "source": [
    "print(auc)"
   ]
  },
  {
   "cell_type": "code",
   "execution_count": 11,
   "id": "a9a10b93",
   "metadata": {},
   "outputs": [],
   "source": [
    "test_df = df[df['split'] == 'test']"
   ]
  },
  {
   "cell_type": "code",
   "execution_count": 12,
   "id": "d54bff1f",
   "metadata": {},
   "outputs": [],
   "source": [
    "labels = test_df['label']\n",
    "preds = test_df['preds']\n",
    "probs = test_df['probs']"
   ]
  },
  {
   "cell_type": "code",
   "execution_count": 13,
   "id": "35165598",
   "metadata": {},
   "outputs": [],
   "source": [
    "auc = roc_auc_score(labels, probs)"
   ]
  },
  {
   "cell_type": "code",
   "execution_count": 14,
   "id": "11e3706f",
   "metadata": {},
   "outputs": [
    {
     "name": "stdout",
     "output_type": "stream",
     "text": [
      "0.9921602210351452\n"
     ]
    }
   ],
   "source": [
    "print(auc)"
   ]
  },
  {
   "cell_type": "code",
   "execution_count": null,
   "id": "ed6cef86",
   "metadata": {},
   "outputs": [],
   "source": []
  }
 ],
 "metadata": {
  "kernelspec": {
   "display_name": "Python 3 (ipykernel)",
   "language": "python",
   "name": "python3"
  },
  "language_info": {
   "codemirror_mode": {
    "name": "ipython",
    "version": 3
   },
   "file_extension": ".py",
   "mimetype": "text/x-python",
   "name": "python",
   "nbconvert_exporter": "python",
   "pygments_lexer": "ipython3",
   "version": "3.11.5"
  }
 },
 "nbformat": 4,
 "nbformat_minor": 5
}
